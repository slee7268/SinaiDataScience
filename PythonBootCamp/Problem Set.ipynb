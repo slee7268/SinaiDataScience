{
 "cells": [
  {
   "cell_type": "markdown",
   "metadata": {},
   "source": [
    "Welcome everyone to the problem set page. We'll be working on these problems as we progress at the beginning of each class! We recommend you to copy and paste the below starter code to get started and proceed to work on these problems on your own Jupyter notebook environment.\n",
    "\n",
    "Problem Set #1\n",
    "1. Write a function named yeet that takes three parameters: a, b, c. Make and return a list with those three parameters.\n",
    "\n",
    "2. Use yeet to return yourself a list and then write a for loop that prints out each entry of the list.\n",
    "\n",
    "3. Write a new function broski that takes three parameters: x, y, z. Take the sum of all three numbers and return the result. (Challenge: is there a way to check if the parameters x, y, z are integers when running the function to avoid someone putting in strings into the function?)\n",
    "\n",
    "4. Write a function substring that takes one parameter: a. Return the first 4 characters of a. (Think about again like in problem 3, how would I prevent someone running substring(10) instead of substring(\"hello\") and what if someone put in a string that is less than 4 characters?)\n",
    "\n",
    "5. Edit function substring to take two parameters: a, b that return the first b characters of a."
   ]
  },
  {
   "cell_type": "code",
   "execution_count": null,
   "metadata": {},
   "outputs": [],
   "source": [
    "\n"
   ]
  },
  {
   "cell_type": "markdown",
   "metadata": {},
   "source": [
    "Problem Set #2"
   ]
  },
  {
   "cell_type": "code",
   "execution_count": 14,
   "metadata": {},
   "outputs": [
    {
     "data": {
      "text/html": [
       "<div>\n",
       "<style scoped>\n",
       "    .dataframe tbody tr th:only-of-type {\n",
       "        vertical-align: middle;\n",
       "    }\n",
       "\n",
       "    .dataframe tbody tr th {\n",
       "        vertical-align: top;\n",
       "    }\n",
       "\n",
       "    .dataframe thead th {\n",
       "        text-align: right;\n",
       "    }\n",
       "</style>\n",
       "<table border=\"1\" class=\"dataframe\">\n",
       "  <thead>\n",
       "    <tr style=\"text-align: right;\">\n",
       "      <th></th>\n",
       "      <th>sepal length (cm)</th>\n",
       "      <th>sepal width (cm)</th>\n",
       "      <th>petal length (cm)</th>\n",
       "      <th>petal width (cm)</th>\n",
       "    </tr>\n",
       "  </thead>\n",
       "  <tbody>\n",
       "    <tr>\n",
       "      <th>0</th>\n",
       "      <td>5.1</td>\n",
       "      <td>3.5</td>\n",
       "      <td>1.4</td>\n",
       "      <td>0.2</td>\n",
       "    </tr>\n",
       "    <tr>\n",
       "      <th>1</th>\n",
       "      <td>4.9</td>\n",
       "      <td>3.0</td>\n",
       "      <td>1.4</td>\n",
       "      <td>0.2</td>\n",
       "    </tr>\n",
       "    <tr>\n",
       "      <th>2</th>\n",
       "      <td>4.7</td>\n",
       "      <td>3.2</td>\n",
       "      <td>1.3</td>\n",
       "      <td>0.2</td>\n",
       "    </tr>\n",
       "    <tr>\n",
       "      <th>3</th>\n",
       "      <td>4.6</td>\n",
       "      <td>3.1</td>\n",
       "      <td>1.5</td>\n",
       "      <td>0.2</td>\n",
       "    </tr>\n",
       "    <tr>\n",
       "      <th>4</th>\n",
       "      <td>5.0</td>\n",
       "      <td>3.6</td>\n",
       "      <td>1.4</td>\n",
       "      <td>0.2</td>\n",
       "    </tr>\n",
       "  </tbody>\n",
       "</table>\n",
       "</div>"
      ],
      "text/plain": [
       "   sepal length (cm)  sepal width (cm)  petal length (cm)  petal width (cm)\n",
       "0                5.1               3.5                1.4               0.2\n",
       "1                4.9               3.0                1.4               0.2\n",
       "2                4.7               3.2                1.3               0.2\n",
       "3                4.6               3.1                1.5               0.2\n",
       "4                5.0               3.6                1.4               0.2"
      ]
     },
     "execution_count": 14,
     "metadata": {},
     "output_type": "execute_result"
    }
   ],
   "source": [
    "from sklearn import datasets\n",
    "import pandas as pd\n",
    "import matplotlib.pyplot as plt\n",
    "#this next line allows you to make graphs inside your notebook!\n",
    "%matplotlib inline\n",
    "#this is calling \"datasets\" from sklearn library to pull the iris dataset\n",
    "iris = datasets.load_iris()\n",
    "#this is to make it a nice format for us to look at\n",
    "iris = pd.DataFrame(iris.data, columns = iris.feature_names)\n",
    "#this will help us take a look at the data\n",
    "iris.head()"
   ]
  },
  {
   "cell_type": "code",
   "execution_count": null,
   "metadata": {},
   "outputs": [],
   "source": []
  },
  {
   "cell_type": "code",
   "execution_count": null,
   "metadata": {},
   "outputs": [],
   "source": []
  },
  {
   "cell_type": "markdown",
   "metadata": {},
   "source": [
    "Answers to Problem Set #1"
   ]
  },
  {
   "cell_type": "code",
   "execution_count": 35,
   "metadata": {},
   "outputs": [
    {
     "name": "stdout",
     "output_type": "stream",
     "text": [
      "yo\n",
      "3\n",
      "yup\n",
      "True\n"
     ]
    },
    {
     "data": {
      "text/plain": [
       "'yo'"
      ]
     },
     "execution_count": 35,
     "metadata": {},
     "output_type": "execute_result"
    }
   ],
   "source": [
    "#Problem 1\n",
    "def yeet(a, b, c):\n",
    "    f=[]\n",
    "    f.append(a)\n",
    "    f.append(b)\n",
    "    f.append(c)\n",
    "    return f\n",
    "\n",
    "#Problem 2\n",
    "x = yeet(\"yo\", 3, \"yup\")\n",
    "for i in range(0, len(x)):\n",
    "    print(x[i])\n",
    "    \n",
    "# this also would work!\n",
    "\"\"\"\n",
    "for word in x:\n",
    "    print(word)\n",
    "\"\"\"\n",
    "#Problem 3\n",
    "def broski(x, y, z):\n",
    "    print(type(x)==int)\n",
    "    if((type(x)==int) and (type(y)==int) and (type(z)==int)):\n",
    "        a=x+y+z\n",
    "        return a\n",
    "    else:\n",
    "        print(\"you didn't enter an integer bozo\")\n",
    "broski(3,4,5)\n",
    "\n",
    "#Problem 4\n",
    "def substring(a):\n",
    "    if((type(a)==str) & (len(a)>=4)):\n",
    "        return (a[0:4])\n",
    "    else:\n",
    "        print('error: you didnot enter a string or it was not long enough')\n",
    "\n",
    "substring(\"yooo\")\n",
    "\n",
    "#Problem 5\n",
    "def substring2(a, b):\n",
    "    if((type(a)==str) & (len(a)>=4)):\n",
    "        return (a[0:b])\n",
    "    else:\n",
    "        print('error: you didnot enter a string or it was not long enough')\n",
    "substring2(\"yooo\", 2)"
   ]
  }
 ],
 "metadata": {
  "kernelspec": {
   "display_name": "Python 3",
   "language": "python",
   "name": "python3"
  },
  "language_info": {
   "codemirror_mode": {
    "name": "ipython",
    "version": 3
   },
   "file_extension": ".py",
   "mimetype": "text/x-python",
   "name": "python",
   "nbconvert_exporter": "python",
   "pygments_lexer": "ipython3",
   "version": "3.7.6"
  }
 },
 "nbformat": 4,
 "nbformat_minor": 4
}
